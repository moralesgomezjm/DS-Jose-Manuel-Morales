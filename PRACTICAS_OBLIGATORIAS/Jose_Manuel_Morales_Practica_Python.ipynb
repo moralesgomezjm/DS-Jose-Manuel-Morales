{
 "cells": [
  {
   "cell_type": "markdown",
   "id": "f24192a0-93c8-4792-80aa-d9cf99383521",
   "metadata": {},
   "source": [
    "**EJERCICIO 1**"
   ]
  },
  {
   "cell_type": "code",
   "execution_count": 1,
   "id": "e3f3778c-45a6-4d54-baf8-dbcf18387e9f",
   "metadata": {},
   "outputs": [
    {
     "name": "stdout",
     "output_type": "stream",
     "text": [
      "Buenas tardes, bienvenido al servicio de pedido online.El precio de nuestras pizzas es de 8.95€ para la familiar y de 9.90€ para la mediana.\n"
     ]
    },
    {
     "name": "stdin",
     "output_type": "stream",
     "text": [
      "¿Cuántas pizzas familiares desea?  2\n"
     ]
    },
    {
     "name": "stdout",
     "output_type": "stream",
     "text": [
      "Estupendo, ¿cuántas pizzas medianas desea?\n"
     ]
    },
    {
     "name": "stdin",
     "output_type": "stream",
     "text": [
      "Introduzca el número de pizzas medianas:  3\n"
     ]
    },
    {
     "name": "stdout",
     "output_type": "stream",
     "text": [
      "Estupendo, se están preparando 2 pizzas familiares y 3 pizzas medianas.\n"
     ]
    },
    {
     "name": "stdin",
     "output_type": "stream",
     "text": [
      "Dígame su dirección:  Fray Luis de Leon\n"
     ]
    },
    {
     "name": "stdout",
     "output_type": "stream",
     "text": [
      "Le mandaremos las 5 pizzas a la dirección 'Fray Luis de Leon'.\n",
      "Serán 47.60€. Muchas gracias por su pedido.\n"
     ]
    }
   ],
   "source": [
    "#EJERCICIO 1\n",
    "\n",
    "print(\"Buenas tardes, bienvenido al servicio de pedido online.El precio de nuestras pizzas es de 8.95€ para la familiar y de 9.90€ para la mediana.\")\n",
    "pizz_familiar = int(input(\"¿Cuántas pizzas familiares desea? \"))\n",
    "print(\"Estupendo, ¿cuántas pizzas medianas desea?\")\n",
    "pizz_mediana = int(input(\"Introduzca el número de pizzas medianas: \"))\n",
    "print(f\"Estupendo, se están preparando {pizz_familiar} pizzas familiares y {pizz_mediana} pizzas medianas.\")\n",
    "direcc = input(\"Dígame su dirección: \")\n",
    "precio_familiar = 8.95\n",
    "precio_mediana = 9.90\n",
    "total = (pizz_familiar * precio_familiar) + (pizz_mediana * precio_mediana)\n",
    "total_pizzas = pizz_familiar + pizz_mediana\n",
    "print(f\"Le mandaremos las {total_pizzas} pizzas a la dirección '{direcc}'.\")\n",
    "print(f\"Serán {total:.2f}€. Muchas gracias por su pedido.\")"
   ]
  },
  {
   "cell_type": "markdown",
   "id": "8e4a8773-fd22-4a01-be14-80b89188ffca",
   "metadata": {},
   "source": [
    "**EJERCICIO 2**"
   ]
  },
  {
   "cell_type": "code",
   "execution_count": 3,
   "id": "797c3ca1-6b90-4b05-8ca5-cb49cca5fd7c",
   "metadata": {},
   "outputs": [
    {
     "name": "stdin",
     "output_type": "stream",
     "text": [
      "Introduce 3 números enteros separados por comas (por ejemplo: 1,2,3):  2,2,5\n"
     ]
    },
    {
     "name": "stdout",
     "output_type": "stream",
     "text": [
      "\n",
      "Resultados:\n",
      "Números introducidos: [2, 2, 5]\n",
      "Máximo: 5\n",
      "Mínimo: 2\n",
      "Suma total: 9\n",
      "¿El máximo menos el mínimo es igual a la suma total dividida entre 5? → False\n"
     ]
    }
   ],
   "source": [
    "entrada = input(\"Introduce 3 números enteros separados por comas (por ejemplo: 1,2,3): \")\n",
    "numeros = [int(num) for num in entrada.split(\",\")]\n",
    "maximo = max(numeros)\n",
    "minimo = min(numeros)\n",
    "suma_total = sum(numeros)\n",
    "comprobacion = (maximo - minimo) == (suma_total / 5)\n",
    "print(\"\\nResultados:\")\n",
    "print(f\"Números introducidos: {numeros}\")\n",
    "print(f\"Máximo: {maximo}\")\n",
    "print(f\"Mínimo: {minimo}\")\n",
    "print(f\"Suma total: {suma_total}\")\n",
    "print(f\"¿El máximo menos el mínimo es igual a la suma total dividida entre 5? → {comprobacion}\")\n"
   ]
  },
  {
   "cell_type": "code",
   "execution_count": null,
   "id": "4453d962-6a3a-4fa4-8841-d0f1735fb9e8",
   "metadata": {},
   "outputs": [],
   "source": []
  }
 ],
 "metadata": {
  "kernelspec": {
   "display_name": "Python 3 (ipykernel)",
   "language": "python",
   "name": "python3"
  },
  "language_info": {
   "codemirror_mode": {
    "name": "ipython",
    "version": 3
   },
   "file_extension": ".py",
   "mimetype": "text/x-python",
   "name": "python",
   "nbconvert_exporter": "python",
   "pygments_lexer": "ipython3",
   "version": "3.13.7"
  }
 },
 "nbformat": 4,
 "nbformat_minor": 5
}
