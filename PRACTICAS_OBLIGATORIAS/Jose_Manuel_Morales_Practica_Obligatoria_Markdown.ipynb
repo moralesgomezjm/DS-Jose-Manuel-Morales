{
 "cells": [
  {
   "cell_type": "markdown",
   "id": "304310cd-ed14-4dbe-acff-3193d29ae29d",
   "metadata": {},
   "source": [
    "# Ejercicio 1  \n",
    "### Aptitudes en Data Science\n",
    ">**Lo más importante**  \n",
    ">* Matemáticas\n",
    ">* Pyhton\n",
    ">* SQL  \n",
    "> ![Python logo](img/python.png)  \n",
    ">Otro tema importante es la ***Estadística***  \n",
    ">Si tienes dudas, puedes escribirnos a: ta_ds_online@thebridgeschool.es  \n",
    ">Y en esta web se aprende mucho sobre *Machine learning*: [**Kaggle**](https://www.kaggle.com/)"
   ]
  },
  {
   "cell_type": "markdown",
   "id": "6dd18bb9-3503-4e99-98db-82b03277a6ac",
   "metadata": {},
   "source": [
    "# Ejercicio 2\n",
    "  | **Fundamentals** | **Data Analysis** | **ML** | **Data Business** |\n",
    "|-----------------|-----------------|------|-----------------|\n",
    "| Jupyter         | SQL             | Supervisado       | API             |\n",
    "| GitHub          | Estadística     | No supervisado   | Despliegue      |\n",
    "| Python          | EDA             | Deep Learning    | Cloud Computing |  \n",
    "\n",
    "\n",
    "\n",
    "\\sqrt{3x - 1}\n",
    "\\\n",
    "\n",
    "\\[\n",
    "\\sqrt{x^2 + y^2}\n",
    "\\]"
   ]
  },
  {
   "cell_type": "markdown",
   "id": "2f9cb124-443d-4a7d-9437-0d923fc4731c",
   "metadata": {},
   "source": [
    "$$\n",
    "\\sqrt{x^2 + y^2}\n",
    "$$"
   ]
  },
  {
   "cell_type": "code",
   "execution_count": null,
   "id": "bddfeff1-b084-4a22-93e2-991d40b42717",
   "metadata": {},
   "outputs": [],
   "source": []
  }
 ],
 "metadata": {
  "kernelspec": {
   "display_name": "Python 3 (ipykernel)",
   "language": "python",
   "name": "python3"
  },
  "language_info": {
   "codemirror_mode": {
    "name": "ipython",
    "version": 3
   },
   "file_extension": ".py",
   "mimetype": "text/x-python",
   "name": "python",
   "nbconvert_exporter": "python",
   "pygments_lexer": "ipython3",
   "version": "3.13.7"
  }
 },
 "nbformat": 4,
 "nbformat_minor": 5
}
